{
 "cells": [
  {
   "cell_type": "markdown",
   "metadata": {},
   "source": [
    "**CAPSTONE 2 - EXPLORATORY DATA ANALYSIS**"
   ]
  },
  {
   "cell_type": "code",
   "execution_count": 1,
   "metadata": {},
   "outputs": [
    {
     "name": "stderr",
     "output_type": "stream",
     "text": [
      "C:\\Users\\iamku\\Anaconda3\\lib\\site-packages\\statsmodels\\tools\\_testing.py:19: FutureWarning: pandas.util.testing is deprecated. Use the functions in the public API at pandas.testing instead.\n",
      "  import pandas.util.testing as tm\n"
     ]
    }
   ],
   "source": [
    "import os\n",
    "import pandas as pd\n",
    "import datetime\n",
    "import seaborn as sns\n",
    "import matplotlib.pyplot as plt\n",
    "import numpy as np\n",
    "%matplotlib inline\n",
    "\n",
    "from sklearn.preprocessing import LabelEncoder\n",
    "from sklearn.model_selection import train_test_split\n",
    "from sklearn.linear_model import LogisticRegression \n",
    "from sklearn.model_selection import GridSearchCV\n",
    "from sklearn.neighbors import KNeighborsClassifier\n",
    "from sklearn.ensemble import RandomForestClassifier\n",
    "\n",
    "from sklearn.metrics import f1_score, confusion_matrix, accuracy_score\n",
    "from sklearn import metrics"
   ]
  },
  {
   "cell_type": "code",
   "execution_count": 2,
   "metadata": {},
   "outputs": [
    {
     "data": {
      "text/html": [
       "<div>\n",
       "<style scoped>\n",
       "    .dataframe tbody tr th:only-of-type {\n",
       "        vertical-align: middle;\n",
       "    }\n",
       "\n",
       "    .dataframe tbody tr th {\n",
       "        vertical-align: top;\n",
       "    }\n",
       "\n",
       "    .dataframe thead th {\n",
       "        text-align: right;\n",
       "    }\n",
       "</style>\n",
       "<table border=\"1\" class=\"dataframe\">\n",
       "  <thead>\n",
       "    <tr style=\"text-align: right;\">\n",
       "      <th></th>\n",
       "      <th>airline_name</th>\n",
       "      <th>author</th>\n",
       "      <th>author_country</th>\n",
       "      <th>cabin_flown</th>\n",
       "      <th>overall_rating</th>\n",
       "      <th>seat_comfort_rating</th>\n",
       "      <th>cabin_staff_rating</th>\n",
       "      <th>food_beverages_rating</th>\n",
       "      <th>inflight_entertainment_rating</th>\n",
       "      <th>value_money_rating</th>\n",
       "      <th>recommended</th>\n",
       "      <th>time</th>\n",
       "    </tr>\n",
       "  </thead>\n",
       "  <tbody>\n",
       "    <tr>\n",
       "      <th>0</th>\n",
       "      <td>adria-airways</td>\n",
       "      <td>D Ito</td>\n",
       "      <td>Germany</td>\n",
       "      <td>Economy</td>\n",
       "      <td>7.0</td>\n",
       "      <td>4.0</td>\n",
       "      <td>4.0</td>\n",
       "      <td>4.0</td>\n",
       "      <td>0.0</td>\n",
       "      <td>4.0</td>\n",
       "      <td>1</td>\n",
       "      <td>2015-04-01</td>\n",
       "    </tr>\n",
       "    <tr>\n",
       "      <th>1</th>\n",
       "      <td>adria-airways</td>\n",
       "      <td>Ron Kuhlmann</td>\n",
       "      <td>United States</td>\n",
       "      <td>Business Class</td>\n",
       "      <td>10.0</td>\n",
       "      <td>4.0</td>\n",
       "      <td>5.0</td>\n",
       "      <td>4.0</td>\n",
       "      <td>1.0</td>\n",
       "      <td>5.0</td>\n",
       "      <td>1</td>\n",
       "      <td>2015-01-01</td>\n",
       "    </tr>\n",
       "    <tr>\n",
       "      <th>2</th>\n",
       "      <td>adria-airways</td>\n",
       "      <td>E Albin</td>\n",
       "      <td>Switzerland</td>\n",
       "      <td>Economy</td>\n",
       "      <td>9.0</td>\n",
       "      <td>5.0</td>\n",
       "      <td>5.0</td>\n",
       "      <td>4.0</td>\n",
       "      <td>0.0</td>\n",
       "      <td>5.0</td>\n",
       "      <td>1</td>\n",
       "      <td>2014-09-01</td>\n",
       "    </tr>\n",
       "  </tbody>\n",
       "</table>\n",
       "</div>"
      ],
      "text/plain": [
       "    airline_name        author author_country     cabin_flown  overall_rating  \\\n",
       "0  adria-airways         D Ito        Germany         Economy             7.0   \n",
       "1  adria-airways  Ron Kuhlmann  United States  Business Class            10.0   \n",
       "2  adria-airways       E Albin    Switzerland         Economy             9.0   \n",
       "\n",
       "   seat_comfort_rating  cabin_staff_rating  food_beverages_rating  \\\n",
       "0                  4.0                 4.0                    4.0   \n",
       "1                  4.0                 5.0                    4.0   \n",
       "2                  5.0                 5.0                    4.0   \n",
       "\n",
       "   inflight_entertainment_rating  value_money_rating  recommended        time  \n",
       "0                            0.0                 4.0            1  2015-04-01  \n",
       "1                            1.0                 5.0            1  2015-01-01  \n",
       "2                            0.0                 5.0            1  2014-09-01  "
      ]
     },
     "execution_count": 2,
     "metadata": {},
     "output_type": "execute_result"
    }
   ],
   "source": [
    "path=\"C:\\Local Disk Custom\\Edu\\Data Science\\Springboard\\Capstone 2\\Ideas and Related datasets\\Airline passenger satisfaction\"\n",
    "os.chdir(path) \n",
    "\n",
    "filename = 'Airline-Dataset-Clean.csv'\n",
    "df = pd.read_csv(filename)\n",
    "df.drop(['Unnamed: 0'], axis=1, inplace=True)\n",
    "df.head(3)"
   ]
  },
  {
   "cell_type": "code",
   "execution_count": 3,
   "metadata": {},
   "outputs": [
    {
     "name": "stdout",
     "output_type": "stream",
     "text": [
      "<class 'pandas.core.frame.DataFrame'>\n",
      "RangeIndex: 27198 entries, 0 to 27197\n",
      "Data columns (total 12 columns):\n",
      " #   Column                         Non-Null Count  Dtype  \n",
      "---  ------                         --------------  -----  \n",
      " 0   airline_name                   27198 non-null  object \n",
      " 1   author                         27198 non-null  object \n",
      " 2   author_country                 27198 non-null  object \n",
      " 3   cabin_flown                    27198 non-null  object \n",
      " 4   overall_rating                 27198 non-null  float64\n",
      " 5   seat_comfort_rating            27198 non-null  float64\n",
      " 6   cabin_staff_rating             27198 non-null  float64\n",
      " 7   food_beverages_rating          27198 non-null  float64\n",
      " 8   inflight_entertainment_rating  27198 non-null  float64\n",
      " 9   value_money_rating             27198 non-null  float64\n",
      " 10  recommended                    27198 non-null  int64  \n",
      " 11  time                           27198 non-null  object \n",
      "dtypes: float64(6), int64(1), object(5)\n",
      "memory usage: 2.5+ MB\n"
     ]
    }
   ],
   "source": [
    "df.info()"
   ]
  },
  {
   "cell_type": "code",
   "execution_count": 4,
   "metadata": {},
   "outputs": [
    {
     "data": {
      "text/html": [
       "<div>\n",
       "<style scoped>\n",
       "    .dataframe tbody tr th:only-of-type {\n",
       "        vertical-align: middle;\n",
       "    }\n",
       "\n",
       "    .dataframe tbody tr th {\n",
       "        vertical-align: top;\n",
       "    }\n",
       "\n",
       "    .dataframe thead th {\n",
       "        text-align: right;\n",
       "    }\n",
       "</style>\n",
       "<table border=\"1\" class=\"dataframe\">\n",
       "  <thead>\n",
       "    <tr style=\"text-align: right;\">\n",
       "      <th></th>\n",
       "      <th>overall_rating</th>\n",
       "      <th>seat_comfort_rating</th>\n",
       "      <th>cabin_staff_rating</th>\n",
       "      <th>food_beverages_rating</th>\n",
       "      <th>inflight_entertainment_rating</th>\n",
       "      <th>value_money_rating</th>\n",
       "      <th>recommended</th>\n",
       "    </tr>\n",
       "  </thead>\n",
       "  <tbody>\n",
       "    <tr>\n",
       "      <th>overall_rating</th>\n",
       "      <td>1.000000</td>\n",
       "      <td>0.719935</td>\n",
       "      <td>0.775157</td>\n",
       "      <td>0.641722</td>\n",
       "      <td>0.418358</td>\n",
       "      <td>0.831300</td>\n",
       "      <td>0.873337</td>\n",
       "    </tr>\n",
       "    <tr>\n",
       "      <th>seat_comfort_rating</th>\n",
       "      <td>0.719935</td>\n",
       "      <td>1.000000</td>\n",
       "      <td>0.601893</td>\n",
       "      <td>0.549970</td>\n",
       "      <td>0.414681</td>\n",
       "      <td>0.706313</td>\n",
       "      <td>0.648004</td>\n",
       "    </tr>\n",
       "    <tr>\n",
       "      <th>cabin_staff_rating</th>\n",
       "      <td>0.775157</td>\n",
       "      <td>0.601893</td>\n",
       "      <td>1.000000</td>\n",
       "      <td>0.631894</td>\n",
       "      <td>0.365664</td>\n",
       "      <td>0.710641</td>\n",
       "      <td>0.708900</td>\n",
       "    </tr>\n",
       "    <tr>\n",
       "      <th>food_beverages_rating</th>\n",
       "      <td>0.641722</td>\n",
       "      <td>0.549970</td>\n",
       "      <td>0.631894</td>\n",
       "      <td>1.000000</td>\n",
       "      <td>0.501685</td>\n",
       "      <td>0.607359</td>\n",
       "      <td>0.577122</td>\n",
       "    </tr>\n",
       "    <tr>\n",
       "      <th>inflight_entertainment_rating</th>\n",
       "      <td>0.418358</td>\n",
       "      <td>0.414681</td>\n",
       "      <td>0.365664</td>\n",
       "      <td>0.501685</td>\n",
       "      <td>1.000000</td>\n",
       "      <td>0.404958</td>\n",
       "      <td>0.367796</td>\n",
       "    </tr>\n",
       "    <tr>\n",
       "      <th>value_money_rating</th>\n",
       "      <td>0.831300</td>\n",
       "      <td>0.706313</td>\n",
       "      <td>0.710641</td>\n",
       "      <td>0.607359</td>\n",
       "      <td>0.404958</td>\n",
       "      <td>1.000000</td>\n",
       "      <td>0.767302</td>\n",
       "    </tr>\n",
       "    <tr>\n",
       "      <th>recommended</th>\n",
       "      <td>0.873337</td>\n",
       "      <td>0.648004</td>\n",
       "      <td>0.708900</td>\n",
       "      <td>0.577122</td>\n",
       "      <td>0.367796</td>\n",
       "      <td>0.767302</td>\n",
       "      <td>1.000000</td>\n",
       "    </tr>\n",
       "  </tbody>\n",
       "</table>\n",
       "</div>"
      ],
      "text/plain": [
       "                               overall_rating  seat_comfort_rating  \\\n",
       "overall_rating                       1.000000             0.719935   \n",
       "seat_comfort_rating                  0.719935             1.000000   \n",
       "cabin_staff_rating                   0.775157             0.601893   \n",
       "food_beverages_rating                0.641722             0.549970   \n",
       "inflight_entertainment_rating        0.418358             0.414681   \n",
       "value_money_rating                   0.831300             0.706313   \n",
       "recommended                          0.873337             0.648004   \n",
       "\n",
       "                               cabin_staff_rating  food_beverages_rating  \\\n",
       "overall_rating                           0.775157               0.641722   \n",
       "seat_comfort_rating                      0.601893               0.549970   \n",
       "cabin_staff_rating                       1.000000               0.631894   \n",
       "food_beverages_rating                    0.631894               1.000000   \n",
       "inflight_entertainment_rating            0.365664               0.501685   \n",
       "value_money_rating                       0.710641               0.607359   \n",
       "recommended                              0.708900               0.577122   \n",
       "\n",
       "                               inflight_entertainment_rating  \\\n",
       "overall_rating                                      0.418358   \n",
       "seat_comfort_rating                                 0.414681   \n",
       "cabin_staff_rating                                  0.365664   \n",
       "food_beverages_rating                               0.501685   \n",
       "inflight_entertainment_rating                       1.000000   \n",
       "value_money_rating                                  0.404958   \n",
       "recommended                                         0.367796   \n",
       "\n",
       "                               value_money_rating  recommended  \n",
       "overall_rating                           0.831300     0.873337  \n",
       "seat_comfort_rating                      0.706313     0.648004  \n",
       "cabin_staff_rating                       0.710641     0.708900  \n",
       "food_beverages_rating                    0.607359     0.577122  \n",
       "inflight_entertainment_rating            0.404958     0.367796  \n",
       "value_money_rating                       1.000000     0.767302  \n",
       "recommended                              0.767302     1.000000  "
      ]
     },
     "execution_count": 4,
     "metadata": {},
     "output_type": "execute_result"
    }
   ],
   "source": [
    "df.corr()"
   ]
  },
  {
   "cell_type": "code",
   "execution_count": 5,
   "metadata": {},
   "outputs": [
    {
     "data": {
      "image/png": "[encoded data removed]",
      "text/plain": [
       "<Figure size 432x288 with 5 Axes>"
      ]
     },
     "metadata": {
      "needs_background": "light"
     },
     "output_type": "display_data"
    }
   ],
   "source": [
    "plt.subplot(2,3,1)\n",
    "plt.hist(df['seat_comfort_rating'], bins=6)\n",
    "plt.xlabel('Seat Comfort')\n",
    "plt.subplot(2,3,2)\n",
    "plt.hist(df['cabin_staff_rating'], bins=6)\n",
    "plt.xlabel('Cabin Staff')\n",
    "plt.subplot(2,3,3)\n",
    "plt.hist(df['food_beverages_rating'], bins=6)\n",
    "plt.xlabel('Food')\n",
    "plt.subplot(2,3,4)\n",
    "plt.hist(df['inflight_entertainment_rating'], bins=6)\n",
    "plt.xlabel('Entertainment')\n",
    "plt.subplot(2,3,5)\n",
    "plt.hist(df['value_money_rating'], bins=6)\n",
    "plt.xlabel('Value for money')\n",
    "\n",
    "plt.tight_layout()\n",
    "plt.show()"
   ]
  },
  {
   "cell_type": "code",
   "execution_count": 6,
   "metadata": {},
   "outputs": [],
   "source": [
    "df1 = pd.concat([df.drop(['cabin_flown'], axis=1), pd.get_dummies(df['cabin_flown'], drop_first=True)], axis=1)"
   ]
  },
  {
   "cell_type": "code",
   "execution_count": 7,
   "metadata": {},
   "outputs": [
    {
     "data": {
      "text/html": [
       "<div>\n",
       "<style scoped>\n",
       "    .dataframe tbody tr th:only-of-type {\n",
       "        vertical-align: middle;\n",
       "    }\n",
       "\n",
       "    .dataframe tbody tr th {\n",
       "        vertical-align: top;\n",
       "    }\n",
       "\n",
       "    .dataframe thead th {\n",
       "        text-align: right;\n",
       "    }\n",
       "</style>\n",
       "<table border=\"1\" class=\"dataframe\">\n",
       "  <thead>\n",
       "    <tr style=\"text-align: right;\">\n",
       "      <th></th>\n",
       "      <th>airline_name</th>\n",
       "      <th>author</th>\n",
       "      <th>author_country</th>\n",
       "      <th>overall_rating</th>\n",
       "      <th>seat_comfort_rating</th>\n",
       "      <th>cabin_staff_rating</th>\n",
       "      <th>food_beverages_rating</th>\n",
       "      <th>inflight_entertainment_rating</th>\n",
       "      <th>value_money_rating</th>\n",
       "      <th>recommended</th>\n",
       "      <th>time</th>\n",
       "      <th>Economy</th>\n",
       "      <th>First Class</th>\n",
       "      <th>Premium Economy</th>\n",
       "    </tr>\n",
       "  </thead>\n",
       "  <tbody>\n",
       "    <tr>\n",
       "      <th>0</th>\n",
       "      <td>adria-airways</td>\n",
       "      <td>D Ito</td>\n",
       "      <td>Germany</td>\n",
       "      <td>7.0</td>\n",
       "      <td>4.0</td>\n",
       "      <td>4.0</td>\n",
       "      <td>4.0</td>\n",
       "      <td>0.0</td>\n",
       "      <td>4.0</td>\n",
       "      <td>1</td>\n",
       "      <td>2015-04-01</td>\n",
       "      <td>1</td>\n",
       "      <td>0</td>\n",
       "      <td>0</td>\n",
       "    </tr>\n",
       "    <tr>\n",
       "      <th>1</th>\n",
       "      <td>adria-airways</td>\n",
       "      <td>Ron Kuhlmann</td>\n",
       "      <td>United States</td>\n",
       "      <td>10.0</td>\n",
       "      <td>4.0</td>\n",
       "      <td>5.0</td>\n",
       "      <td>4.0</td>\n",
       "      <td>1.0</td>\n",
       "      <td>5.0</td>\n",
       "      <td>1</td>\n",
       "      <td>2015-01-01</td>\n",
       "      <td>0</td>\n",
       "      <td>0</td>\n",
       "      <td>0</td>\n",
       "    </tr>\n",
       "    <tr>\n",
       "      <th>2</th>\n",
       "      <td>adria-airways</td>\n",
       "      <td>E Albin</td>\n",
       "      <td>Switzerland</td>\n",
       "      <td>9.0</td>\n",
       "      <td>5.0</td>\n",
       "      <td>5.0</td>\n",
       "      <td>4.0</td>\n",
       "      <td>0.0</td>\n",
       "      <td>5.0</td>\n",
       "      <td>1</td>\n",
       "      <td>2014-09-01</td>\n",
       "      <td>1</td>\n",
       "      <td>0</td>\n",
       "      <td>0</td>\n",
       "    </tr>\n",
       "    <tr>\n",
       "      <th>3</th>\n",
       "      <td>adria-airways</td>\n",
       "      <td>Tercon Bojan</td>\n",
       "      <td>Singapore</td>\n",
       "      <td>8.0</td>\n",
       "      <td>4.0</td>\n",
       "      <td>4.0</td>\n",
       "      <td>3.0</td>\n",
       "      <td>1.0</td>\n",
       "      <td>4.0</td>\n",
       "      <td>1</td>\n",
       "      <td>2014-09-01</td>\n",
       "      <td>0</td>\n",
       "      <td>0</td>\n",
       "      <td>0</td>\n",
       "    </tr>\n",
       "    <tr>\n",
       "      <th>4</th>\n",
       "      <td>adria-airways</td>\n",
       "      <td>L James</td>\n",
       "      <td>Poland</td>\n",
       "      <td>4.0</td>\n",
       "      <td>4.0</td>\n",
       "      <td>2.0</td>\n",
       "      <td>1.0</td>\n",
       "      <td>2.0</td>\n",
       "      <td>2.0</td>\n",
       "      <td>0</td>\n",
       "      <td>2014-06-01</td>\n",
       "      <td>1</td>\n",
       "      <td>0</td>\n",
       "      <td>0</td>\n",
       "    </tr>\n",
       "  </tbody>\n",
       "</table>\n",
       "</div>"
      ],
      "text/plain": [
       "    airline_name        author author_country  overall_rating  \\\n",
       "0  adria-airways         D Ito        Germany             7.0   \n",
       "1  adria-airways  Ron Kuhlmann  United States            10.0   \n",
       "2  adria-airways       E Albin    Switzerland             9.0   \n",
       "3  adria-airways  Tercon Bojan      Singapore             8.0   \n",
       "4  adria-airways       L James         Poland             4.0   \n",
       "\n",
       "   seat_comfort_rating  cabin_staff_rating  food_beverages_rating  \\\n",
       "0                  4.0                 4.0                    4.0   \n",
       "1                  4.0                 5.0                    4.0   \n",
       "2                  5.0                 5.0                    4.0   \n",
       "3                  4.0                 4.0                    3.0   \n",
       "4                  4.0                 2.0                    1.0   \n",
       "\n",
       "   inflight_entertainment_rating  value_money_rating  recommended        time  \\\n",
       "0                            0.0                 4.0            1  2015-04-01   \n",
       "1                            1.0                 5.0            1  2015-01-01   \n",
       "2                            0.0                 5.0            1  2014-09-01   \n",
       "3                            1.0                 4.0            1  2014-09-01   \n",
       "4                            2.0                 2.0            0  2014-06-01   \n",
       "\n",
       "   Economy  First Class  Premium Economy  \n",
       "0        1            0                0  \n",
       "1        0            0                0  \n",
       "2        1            0                0  \n",
       "3        0            0                0  \n",
       "4        1            0                0  "
      ]
     },
     "execution_count": 7,
     "metadata": {},
     "output_type": "execute_result"
    }
   ],
   "source": [
    "df1.head()"
   ]
  },
  {
   "cell_type": "code",
   "execution_count": 8,
   "metadata": {},
   "outputs": [
    {
     "data": {
      "image/png": "[encoded data removed]",
      "text/plain": [
       "<Figure size 432x288 with 1 Axes>"
      ]
     },
     "metadata": {
      "needs_background": "light"
     },
     "output_type": "display_data"
    }
   ],
   "source": [
    "airlines = df[df['recommended']==1].groupby('airline_name')['recommended'].sum().sort_values(ascending=False)\n",
    "airlines = pd.DataFrame(airlines).reset_index()\n",
    "sns.barplot(data=airlines.head(8), x='airline_name', y='recommended')\n",
    "plt.xlabel('')\n",
    "plt.xticks(rotation=45)\n",
    "plt.ylabel('Recommendations')\n",
    "plt.title('Airlines with most Recommendations')\n",
    "plt.show()"
   ]
  },
  {
   "cell_type": "code",
   "execution_count": 9,
   "metadata": {},
   "outputs": [
    {
     "data": {
      "text/plain": [
       "<AxesSubplot:xlabel='cabin_flown', ylabel='recommended'>"
      ]
     },
     "execution_count": 9,
     "metadata": {},
     "output_type": "execute_result"
    },
    {
     "data": {
      "image/png": "[encoded data removed]",
      "text/plain": [
       "<Figure size 432x288 with 1 Axes>"
      ]
     },
     "metadata": {
      "needs_background": "light"
     },
     "output_type": "display_data"
    }
   ],
   "source": [
    "sns.violinplot(x='cabin_flown', y='recommended', data=df)"
   ]
  },
  {
   "cell_type": "code",
   "execution_count": 10,
   "metadata": {},
   "outputs": [
    {
     "data": {
      "text/html": [
       "<div>\n",
       "<style scoped>\n",
       "    .dataframe tbody tr th:only-of-type {\n",
       "        vertical-align: middle;\n",
       "    }\n",
       "\n",
       "    .dataframe tbody tr th {\n",
       "        vertical-align: top;\n",
       "    }\n",
       "\n",
       "    .dataframe thead th {\n",
       "        text-align: right;\n",
       "    }\n",
       "</style>\n",
       "<table border=\"1\" class=\"dataframe\">\n",
       "  <thead>\n",
       "    <tr style=\"text-align: right;\">\n",
       "      <th></th>\n",
       "      <th>cabin_flown</th>\n",
       "      <th>recommended</th>\n",
       "    </tr>\n",
       "  </thead>\n",
       "  <tbody>\n",
       "    <tr>\n",
       "      <th>0</th>\n",
       "      <td>Business Class</td>\n",
       "      <td>0.708278</td>\n",
       "    </tr>\n",
       "    <tr>\n",
       "      <th>1</th>\n",
       "      <td>Economy</td>\n",
       "      <td>0.575640</td>\n",
       "    </tr>\n",
       "  </tbody>\n",
       "</table>\n",
       "</div>"
      ],
      "text/plain": [
       "      cabin_flown  recommended\n",
       "0  Business Class     0.708278\n",
       "1         Economy     0.575640"
      ]
     },
     "execution_count": 10,
     "metadata": {},
     "output_type": "execute_result"
    },
    {
     "data": {
      "image/png": "[encoded data removed]",
      "text/plain": [
       "<Figure size 432x288 with 1 Axes>"
      ]
     },
     "metadata": {
      "needs_background": "light"
     },
     "output_type": "display_data"
    }
   ],
   "source": [
    "a = df.groupby('cabin_flown')[['recommended']].mean()\n",
    "a = a.drop(['Premium Economy', 'First Class']).reset_index()\n",
    "plt.ylim([0,1])\n",
    "sns.barplot(x='cabin_flown', y='recommended', data=a)\n",
    "a"
   ]
  },
  {
   "cell_type": "code",
   "execution_count": 11,
   "metadata": {},
   "outputs": [],
   "source": [
    "rec = df[df['recommended'] == 1]\n",
    "norec = df[df['recommended'] == 0]"
   ]
  },
  {
   "cell_type": "code",
   "execution_count": 12,
   "metadata": {},
   "outputs": [
    {
     "data": {
      "text/plain": [
       "<AxesSubplot:xlabel='overall_rating', ylabel='Count'>"
      ]
     },
     "execution_count": 12,
     "metadata": {},
     "output_type": "execute_result"
    },
    {
     "data": {
      "image/png": "[encoded data removed]",
      "text/plain": [
       "<Figure size 432x288 with 1 Axes>"
      ]
     },
     "metadata": {
      "needs_background": "light"
     },
     "output_type": "display_data"
    }
   ],
   "source": [
    "x = df.groupby(['overall_rating','recommended'])[['recommended']].count()\n",
    "x.columns = ['Count']\n",
    "x = x.reset_index()\n",
    "sns.lineplot(x='overall_rating', y='Count', hue='recommended', data=x)"
   ]
  },
  {
   "cell_type": "code",
   "execution_count": 13,
   "metadata": {},
   "outputs": [
    {
     "data": {
      "image/png": "[encoded data removed]",
      "text/plain": [
       "<Figure size 432x288 with 1 Axes>"
      ]
     },
     "metadata": {
      "needs_background": "light"
     },
     "output_type": "display_data"
    },
    {
     "data": {
      "image/png": "[encoded data removed]",
      "text/plain": [
       "<Figure size 432x288 with 1 Axes>"
      ]
     },
     "metadata": {
      "needs_background": "light"
     },
     "output_type": "display_data"
    },
    {
     "data": {
      "image/png": "[encoded data removed]",
      "text/plain": [
       "<Figure size 432x288 with 1 Axes>"
      ]
     },
     "metadata": {
      "needs_background": "light"
     },
     "output_type": "display_data"
    },
    {
     "data": {
      "image/png": "[encoded data removed]",
      "text/plain": [
       "<Figure size 432x288 with 1 Axes>"
      ]
     },
     "metadata": {
      "needs_background": "light"
     },
     "output_type": "display_data"
    },
    {
     "data": {
      "image/png": "[encoded data removed]",
      "text/plain": [
       "<Figure size 432x288 with 1 Axes>"
      ]
     },
     "metadata": {
      "needs_background": "light"
     },
     "output_type": "display_data"
    }
   ],
   "source": [
    "cols = ['seat_comfort_rating', 'cabin_staff_rating',\n",
    "       'food_beverages_rating', 'inflight_entertainment_rating', 'value_money_rating']\n",
    "for c in cols:\n",
    "    x = df.groupby([c,'recommended'])[['recommended']].count()\n",
    "    x.columns = ['Count']\n",
    "    x = x.reset_index()\n",
    "    sns.barplot(x=c, y='Count', hue='recommended', data=x)\n",
    "    plt.show()"
   ]
  },
  {
   "cell_type": "code",
   "execution_count": 14,
   "metadata": {},
   "outputs": [
    {
     "data": {
      "text/html": [
       "<div>\n",
       "<style scoped>\n",
       "    .dataframe tbody tr th:only-of-type {\n",
       "        vertical-align: middle;\n",
       "    }\n",
       "\n",
       "    .dataframe tbody tr th {\n",
       "        vertical-align: top;\n",
       "    }\n",
       "\n",
       "    .dataframe thead th {\n",
       "        text-align: right;\n",
       "    }\n",
       "</style>\n",
       "<table border=\"1\" class=\"dataframe\">\n",
       "  <thead>\n",
       "    <tr style=\"text-align: right;\">\n",
       "      <th></th>\n",
       "      <th>+ve</th>\n",
       "      <th>-ve</th>\n",
       "      <th>diff</th>\n",
       "    </tr>\n",
       "  </thead>\n",
       "  <tbody>\n",
       "    <tr>\n",
       "      <th>0</th>\n",
       "      <td>135</td>\n",
       "      <td>106</td>\n",
       "      <td>29</td>\n",
       "    </tr>\n",
       "    <tr>\n",
       "      <th>1</th>\n",
       "      <td>110</td>\n",
       "      <td>3851</td>\n",
       "      <td>-3741</td>\n",
       "    </tr>\n",
       "    <tr>\n",
       "      <th>2</th>\n",
       "      <td>335</td>\n",
       "      <td>2458</td>\n",
       "      <td>-2123</td>\n",
       "    </tr>\n",
       "    <tr>\n",
       "      <th>3</th>\n",
       "      <td>1571</td>\n",
       "      <td>2482</td>\n",
       "      <td>-911</td>\n",
       "    </tr>\n",
       "    <tr>\n",
       "      <th>4</th>\n",
       "      <td>5229</td>\n",
       "      <td>1463</td>\n",
       "      <td>3766</td>\n",
       "    </tr>\n",
       "    <tr>\n",
       "      <th>5</th>\n",
       "      <td>9023</td>\n",
       "      <td>435</td>\n",
       "      <td>8588</td>\n",
       "    </tr>\n",
       "  </tbody>\n",
       "</table>\n",
       "</div>"
      ],
      "text/plain": [
       "    +ve   -ve  diff\n",
       "0   135   106    29\n",
       "1   110  3851 -3741\n",
       "2   335  2458 -2123\n",
       "3  1571  2482  -911\n",
       "4  5229  1463  3766\n",
       "5  9023   435  8588"
      ]
     },
     "execution_count": 14,
     "metadata": {},
     "output_type": "execute_result"
    }
   ],
   "source": [
    "x = rec.groupby(['cabin_staff_rating'])[['recommended']].count()\n",
    "x.columns = ['+ve']\n",
    "x['-ve'] = norec.groupby(['cabin_staff_rating'])[['recommended']].count()\n",
    "x['diff'] = x['+ve'] - x['-ve']\n",
    "x.index = [0,1,2,3,4,5]\n",
    "x"
   ]
  },
  {
   "cell_type": "code",
   "execution_count": 15,
   "metadata": {},
   "outputs": [
    {
     "name": "stderr",
     "output_type": "stream",
     "text": [
      "C:\\Users\\iamku\\Anaconda3\\lib\\site-packages\\ipykernel_launcher.py:4: SettingWithCopyWarning: \n",
      "A value is trying to be set on a copy of a slice from a DataFrame.\n",
      "Try using .loc[row_indexer,col_indexer] = value instead\n",
      "\n",
      "See the caveats in the documentation: https://pandas.pydata.org/pandas-docs/stable/user_guide/indexing.html#returning-a-view-versus-a-copy\n",
      "  after removing the cwd from sys.path.\n"
     ]
    },
    {
     "data": {
      "text/html": [
       "<div>\n",
       "<style scoped>\n",
       "    .dataframe tbody tr th:only-of-type {\n",
       "        vertical-align: middle;\n",
       "    }\n",
       "\n",
       "    .dataframe tbody tr th {\n",
       "        vertical-align: top;\n",
       "    }\n",
       "\n",
       "    .dataframe thead th {\n",
       "        text-align: right;\n",
       "    }\n",
       "</style>\n",
       "<table border=\"1\" class=\"dataframe\">\n",
       "  <thead>\n",
       "    <tr style=\"text-align: right;\">\n",
       "      <th></th>\n",
       "      <th>seat_comfort_rating</th>\n",
       "      <th>cabin_staff_rating</th>\n",
       "      <th>food_beverages_rating</th>\n",
       "      <th>inflight_entertainment_rating</th>\n",
       "      <th>value_money_rating</th>\n",
       "    </tr>\n",
       "  </thead>\n",
       "  <tbody>\n",
       "    <tr>\n",
       "      <th>0</th>\n",
       "      <td>1</td>\n",
       "      <td>29</td>\n",
       "      <td>296</td>\n",
       "      <td>1486</td>\n",
       "      <td>-51</td>\n",
       "    </tr>\n",
       "    <tr>\n",
       "      <th>1</th>\n",
       "      <td>-3648</td>\n",
       "      <td>-3741</td>\n",
       "      <td>-3926</td>\n",
       "      <td>-3621</td>\n",
       "      <td>-3796</td>\n",
       "    </tr>\n",
       "    <tr>\n",
       "      <th>2</th>\n",
       "      <td>-1844</td>\n",
       "      <td>-2123</td>\n",
       "      <td>-1643</td>\n",
       "      <td>-547</td>\n",
       "      <td>-2891</td>\n",
       "    </tr>\n",
       "    <tr>\n",
       "      <th>3</th>\n",
       "      <td>205</td>\n",
       "      <td>-911</td>\n",
       "      <td>891</td>\n",
       "      <td>1196</td>\n",
       "      <td>-899</td>\n",
       "    </tr>\n",
       "    <tr>\n",
       "      <th>4</th>\n",
       "      <td>6176</td>\n",
       "      <td>3766</td>\n",
       "      <td>5245</td>\n",
       "      <td>3451</td>\n",
       "      <td>5412</td>\n",
       "    </tr>\n",
       "    <tr>\n",
       "      <th>5</th>\n",
       "      <td>4718</td>\n",
       "      <td>8588</td>\n",
       "      <td>4745</td>\n",
       "      <td>3643</td>\n",
       "      <td>7833</td>\n",
       "    </tr>\n",
       "  </tbody>\n",
       "</table>\n",
       "</div>"
      ],
      "text/plain": [
       "   seat_comfort_rating  cabin_staff_rating  food_beverages_rating  \\\n",
       "0                    1                  29                    296   \n",
       "1                -3648               -3741                  -3926   \n",
       "2                -1844               -2123                  -1643   \n",
       "3                  205                -911                    891   \n",
       "4                 6176                3766                   5245   \n",
       "5                 4718                8588                   4745   \n",
       "\n",
       "   inflight_entertainment_rating  value_money_rating  \n",
       "0                           1486                 -51  \n",
       "1                          -3621               -3796  \n",
       "2                           -547               -2891  \n",
       "3                           1196                -899  \n",
       "4                           3451                5412  \n",
       "5                           3643                7833  "
      ]
     },
     "execution_count": 15,
     "metadata": {},
     "output_type": "execute_result"
    }
   ],
   "source": [
    "x2 = x[['diff']]\n",
    "\n",
    "for c in cols:\n",
    "    x2[c] = rec.groupby([c])['recommended'].count() - norec.groupby([c])['recommended'].count()\n",
    "x2.drop(columns=['diff'])"
   ]
  },
  {
   "cell_type": "code",
   "execution_count": 16,
   "metadata": {},
   "outputs": [
    {
     "data": {
      "text/plain": [
       "<AxesSubplot:xlabel='cabin_flown', ylabel='overall_rating'>"
      ]
     },
     "execution_count": 16,
     "metadata": {},
     "output_type": "execute_result"
    },
    {
     "data": {
      "image/png": "[encoded data removed]",
      "text/plain": [
       "<Figure size 432x288 with 1 Axes>"
      ]
     },
     "metadata": {
      "needs_background": "light"
     },
     "output_type": "display_data"
    }
   ],
   "source": [
    "sns.violinplot(x='cabin_flown', y='overall_rating', data=df)"
   ]
  },
  {
   "cell_type": "markdown",
   "metadata": {},
   "source": [
    "**Convert cabin_class into dummy variables**"
   ]
  },
  {
   "cell_type": "code",
   "execution_count": 18,
   "metadata": {},
   "outputs": [],
   "source": [
    "df1 = pd.concat([df.drop(['cabin_flown'], axis=1), pd.get_dummies(df['cabin_flown'], drop_first=True)], axis=1)"
   ]
  },
  {
   "cell_type": "code",
   "execution_count": 19,
   "metadata": {},
   "outputs": [
    {
     "data": {
      "text/plain": [
       "Economy            19778\n",
       "Business Class      5303\n",
       "Premium Economy     1370\n",
       "First Class          747\n",
       "Name: cabin_flown, dtype: int64"
      ]
     },
     "execution_count": 19,
     "metadata": {},
     "output_type": "execute_result"
    }
   ],
   "source": [
    "df['cabin_flown'].value_counts()"
   ]
  },
  {
   "cell_type": "markdown",
   "metadata": {},
   "source": [
    "**Sperate DF object for each Cabin Class to compare the influence of each Flight feature on their Recommendation**"
   ]
  },
  {
   "cell_type": "code",
   "execution_count": 20,
   "metadata": {},
   "outputs": [],
   "source": [
    "Economy = df[df['cabin_flown'] == 'Economy'].drop(columns=['cabin_flown'])\n",
    "Bus = df[df['cabin_flown'] == 'Business Class'].drop(columns=['cabin_flown'])\n",
    "PremEcon = df[df['cabin_flown'] == 'Premium Economy'].drop(columns=['cabin_flown'])\n",
    "First = df[df['cabin_flown'] == 'First Class'].drop(columns=['cabin_flown'])"
   ]
  },
  {
   "cell_type": "code",
   "execution_count": 21,
   "metadata": {},
   "outputs": [],
   "source": [
    "Comparision = pd.DataFrame(df.corr()['recommended'].drop(columns=['CC']))\n",
    "Comparision.columns = ['Overall']"
   ]
  },
  {
   "cell_type": "code",
   "execution_count": 22,
   "metadata": {},
   "outputs": [
    {
     "data": {
      "text/html": [
       "<div>\n",
       "<style scoped>\n",
       "    .dataframe tbody tr th:only-of-type {\n",
       "        vertical-align: middle;\n",
       "    }\n",
       "\n",
       "    .dataframe tbody tr th {\n",
       "        vertical-align: top;\n",
       "    }\n",
       "\n",
       "    .dataframe thead th {\n",
       "        text-align: right;\n",
       "    }\n",
       "</style>\n",
       "<table border=\"1\" class=\"dataframe\">\n",
       "  <thead>\n",
       "    <tr style=\"text-align: right;\">\n",
       "      <th></th>\n",
       "      <th>overall_rating</th>\n",
       "      <th>seat_comfort_rating</th>\n",
       "      <th>cabin_staff_rating</th>\n",
       "      <th>food_beverages_rating</th>\n",
       "      <th>inflight_entertainment_rating</th>\n",
       "      <th>value_money_rating</th>\n",
       "    </tr>\n",
       "  </thead>\n",
       "  <tbody>\n",
       "    <tr>\n",
       "      <th>Overall</th>\n",
       "      <td>0.873337</td>\n",
       "      <td>0.648004</td>\n",
       "      <td>0.708900</td>\n",
       "      <td>0.577122</td>\n",
       "      <td>0.367796</td>\n",
       "      <td>0.767302</td>\n",
       "    </tr>\n",
       "    <tr>\n",
       "      <th>Economy</th>\n",
       "      <td>0.878046</td>\n",
       "      <td>0.644710</td>\n",
       "      <td>0.704367</td>\n",
       "      <td>0.543020</td>\n",
       "      <td>0.329923</td>\n",
       "      <td>0.759707</td>\n",
       "    </tr>\n",
       "    <tr>\n",
       "      <th>Bus</th>\n",
       "      <td>0.840626</td>\n",
       "      <td>0.616439</td>\n",
       "      <td>0.685589</td>\n",
       "      <td>0.639820</td>\n",
       "      <td>0.411070</td>\n",
       "      <td>0.762110</td>\n",
       "    </tr>\n",
       "    <tr>\n",
       "      <th>PremEcon</th>\n",
       "      <td>0.886504</td>\n",
       "      <td>0.717678</td>\n",
       "      <td>0.755388</td>\n",
       "      <td>0.711566</td>\n",
       "      <td>0.564050</td>\n",
       "      <td>0.831136</td>\n",
       "    </tr>\n",
       "    <tr>\n",
       "      <th>First</th>\n",
       "      <td>0.858935</td>\n",
       "      <td>0.624805</td>\n",
       "      <td>0.735967</td>\n",
       "      <td>0.678041</td>\n",
       "      <td>0.462645</td>\n",
       "      <td>0.800585</td>\n",
       "    </tr>\n",
       "  </tbody>\n",
       "</table>\n",
       "</div>"
      ],
      "text/plain": [
       "          overall_rating  seat_comfort_rating  cabin_staff_rating  \\\n",
       "Overall         0.873337             0.648004            0.708900   \n",
       "Economy         0.878046             0.644710            0.704367   \n",
       "Bus             0.840626             0.616439            0.685589   \n",
       "PremEcon        0.886504             0.717678            0.755388   \n",
       "First           0.858935             0.624805            0.735967   \n",
       "\n",
       "          food_beverages_rating  inflight_entertainment_rating  \\\n",
       "Overall                0.577122                       0.367796   \n",
       "Economy                0.543020                       0.329923   \n",
       "Bus                    0.639820                       0.411070   \n",
       "PremEcon               0.711566                       0.564050   \n",
       "First                  0.678041                       0.462645   \n",
       "\n",
       "          value_money_rating  \n",
       "Overall             0.767302  \n",
       "Economy             0.759707  \n",
       "Bus                 0.762110  \n",
       "PremEcon            0.831136  \n",
       "First               0.800585  "
      ]
     },
     "execution_count": 22,
     "metadata": {},
     "output_type": "execute_result"
    }
   ],
   "source": [
    "Comparision['Economy'] = Economy.corr()['recommended']\n",
    "Comparision['Bus'] = Bus.corr()['recommended']\n",
    "Comparision['PremEcon'] = PremEcon.corr()['recommended']\n",
    "Comparision['First'] = First.corr()['recommended']\n",
    "Comparision = Comparision.T.drop(columns=['recommended'])\n",
    "Comparision.head()"
   ]
  },
  {
   "cell_type": "markdown",
   "metadata": {},
   "source": [
    "**Feature Engineering**"
   ]
  },
  {
   "cell_type": "code",
   "execution_count": 23,
   "metadata": {},
   "outputs": [
    {
     "data": {
      "text/plain": [
       "((20398, 8), (6800, 8), (20398,), (6800,))"
      ]
     },
     "execution_count": 23,
     "metadata": {},
     "output_type": "execute_result"
    }
   ],
   "source": [
    "features = ['overall_rating', 'seat_comfort_rating', 'cabin_staff_rating', 'food_beverages_rating', 'value_money_rating', 'Economy', 'First Class', 'Premium Economy']\n",
    "\n",
    "X = df1[features].values\n",
    "Y = df1['recommended']\n",
    "\n",
    "X_train, X_test, y_train, y_test = train_test_split(X, Y, test_size=0.25, random_state=42)\n",
    "X_train.shape, X_test.shape, y_train.shape, y_test.shape"
   ]
  },
  {
   "cell_type": "markdown",
   "metadata": {},
   "source": [
    "**Logistic Regression**"
   ]
  },
  {
   "cell_type": "code",
   "execution_count": 24,
   "metadata": {},
   "outputs": [
    {
     "name": "stderr",
     "output_type": "stream",
     "text": [
      "C:\\Users\\iamku\\Anaconda3\\lib\\site-packages\\sklearn\\linear_model\\logistic.py:432: FutureWarning: Default solver will be changed to 'lbfgs' in 0.22. Specify a solver to silence this warning.\n",
      "  FutureWarning)\n"
     ]
    }
   ],
   "source": [
    "classifier = LogisticRegression(random_state=42) \n",
    "classifier.fit(X_train, y_train)\n",
    "y_pred = classifier.predict(X_test)\n",
    "cm = confusion_matrix(y_test, y_pred)\n",
    "acc = accuracy_score(y_test, y_pred)"
   ]
  },
  {
   "cell_type": "code",
   "execution_count": 25,
   "metadata": {},
   "outputs": [
    {
     "name": "stdout",
     "output_type": "stream",
     "text": [
      "Confusion Matrix : \n",
      " [[2560  174]\n",
      " [ 169 3897]]\n",
      "Accuracy :  0.9496\n",
      "Precision : 0.9573\n",
      "Recall :  0.9364\n"
     ]
    }
   ],
   "source": [
    "print(\"Confusion Matrix : \\n\", cm)\n",
    "print(\"Accuracy : \", np.round(acc, 4))\n",
    "print(\"Precision :\", np.round(metrics.precision_score(y_test, y_pred, pos_label = 1), 4))\n",
    "print(\"Recall : \", np.round(metrics.recall_score(y_test, y_pred, pos_label = 0), 4))"
   ]
  },
  {
   "cell_type": "markdown",
   "metadata": {},
   "source": [
    "**KNN Classifier with GridSearchCV**"
   ]
  },
  {
   "cell_type": "code",
   "execution_count": 26,
   "metadata": {},
   "outputs": [
    {
     "data": {
      "text/plain": [
       "GridSearchCV(cv=5, error_score='raise-deprecating',\n",
       "             estimator=KNeighborsClassifier(algorithm='auto', leaf_size=30,\n",
       "                                            metric='minkowski',\n",
       "                                            metric_params=None, n_jobs=None,\n",
       "                                            n_neighbors=5, p=2,\n",
       "                                            weights='uniform'),\n",
       "             iid='warn', n_jobs=None,\n",
       "             param_grid={'n_neighbors': array([11, 13, 15, 17, 19, 21, 23, 25, 27, 29, 31, 33, 35, 37, 39, 41, 43,\n",
       "       45, 47])},\n",
       "             pre_dispatch='2*n_jobs', refit=True, return_train_score=False,\n",
       "             scoring=None, verbose=0)"
      ]
     },
     "execution_count": 26,
     "metadata": {},
     "output_type": "execute_result"
    }
   ],
   "source": [
    "param_grid = {'n_neighbors':np.arange(11,49,2)}\n",
    "knn = KNeighborsClassifier()\n",
    "knn_cv = GridSearchCV(knn, param_grid, cv=5)\n",
    "knn_cv.fit(X_train, y_train)"
   ]
  },
  {
   "cell_type": "code",
   "execution_count": 27,
   "metadata": {},
   "outputs": [
    {
     "name": "stdout",
     "output_type": "stream",
     "text": [
      "Best Score:0.9475438768506717\n",
      "Best Parameters: {'n_neighbors': 35}\n"
     ]
    }
   ],
   "source": [
    "print(\"Best Score:\" + str(knn_cv.best_score_))\n",
    "print(\"Best Parameters: \" + str(knn_cv.best_params_))"
   ]
  },
  {
   "cell_type": "code",
   "execution_count": 28,
   "metadata": {},
   "outputs": [],
   "source": [
    "knn_best = KNeighborsClassifier(35).fit(X_train, y_train)\n",
    "y_pred = knn_best.predict(X_test)"
   ]
  },
  {
   "cell_type": "code",
   "execution_count": 29,
   "metadata": {},
   "outputs": [
    {
     "name": "stdout",
     "output_type": "stream",
     "text": [
      "Confusion Matrix : \n",
      " [[2581  153]\n",
      " [ 191 3875]]\n",
      "Accuracy :  0.9494\n",
      "Precision : 0.962\n",
      "Recall :  0.944\n"
     ]
    }
   ],
   "source": [
    "cm = confusion_matrix(y_test, y_pred)\n",
    "acc = accuracy_score(y_test, y_pred)\n",
    "print(\"Confusion Matrix : \\n\", cm)\n",
    "print(\"Accuracy : \", np.round(acc, 4))\n",
    "print(\"Precision :\", np.round(metrics.precision_score(y_test, y_pred, pos_label = 1), 4))\n",
    "print(\"Recall : \", np.round(metrics.recall_score(y_test, y_pred, pos_label = 0), 4))"
   ]
  },
  {
   "cell_type": "markdown",
   "metadata": {},
   "source": [
    "**Random Forest**"
   ]
  },
  {
   "cell_type": "code",
   "execution_count": 30,
   "metadata": {},
   "outputs": [
    {
     "data": {
      "text/plain": [
       "GridSearchCV(cv=5, error_score='raise-deprecating',\n",
       "             estimator=RandomForestClassifier(bootstrap=True, class_weight=None,\n",
       "                                              criterion='gini', max_depth=None,\n",
       "                                              max_features='auto',\n",
       "                                              max_leaf_nodes=None,\n",
       "                                              min_impurity_decrease=0.0,\n",
       "                                              min_impurity_split=None,\n",
       "                                              min_samples_leaf=1,\n",
       "                                              min_samples_split=2,\n",
       "                                              min_weight_fraction_leaf=0.0,\n",
       "                                              n_estimators='warn', n_jobs=None,\n",
       "                                              oob_score=False, random_state=42,\n",
       "                                              verbose=0, warm_start=False),\n",
       "             iid='warn', n_jobs=None,\n",
       "             param_grid={'n_estimators': array([ 50, 100, 150, 200, 250])},\n",
       "             pre_dispatch='2*n_jobs', refit=True, return_train_score=False,\n",
       "             scoring=None, verbose=0)"
      ]
     },
     "execution_count": 30,
     "metadata": {},
     "output_type": "execute_result"
    }
   ],
   "source": [
    "param_grid = {'n_estimators':np.arange(50, 300, 50)}\n",
    "rfc = RandomForestClassifier(random_state=42)\n",
    "rfc_cv = GridSearchCV(rfc, param_grid, cv=5)\n",
    "rfc_cv.fit(X_train, y_train)"
   ]
  },
  {
   "cell_type": "code",
   "execution_count": 31,
   "metadata": {},
   "outputs": [
    {
     "name": "stdout",
     "output_type": "stream",
     "text": [
      "Best Score:0.940974605353466\n",
      "Best Parameters: {'n_estimators': 200}\n"
     ]
    }
   ],
   "source": [
    "print(\"Best Score:\" + str(rfc_cv.best_score_))\n",
    "print(\"Best Parameters: \" + str(rfc_cv.best_params_))"
   ]
  },
  {
   "cell_type": "code",
   "execution_count": 32,
   "metadata": {},
   "outputs": [],
   "source": [
    "rfc_best = RandomForestClassifier(200, random_state=42).fit(X_train, y_train)\n",
    "y_pred = rfc_best.predict(X_test)"
   ]
  },
  {
   "cell_type": "code",
   "execution_count": 33,
   "metadata": {},
   "outputs": [
    {
     "name": "stdout",
     "output_type": "stream",
     "text": [
      "Confusion Matrix : \n",
      " [[2556  178]\n",
      " [ 186 3880]]\n",
      "Accuracy :  0.9465\n",
      "Precision : 0.9561\n",
      "Recall :  0.9349\n"
     ]
    }
   ],
   "source": [
    "cm = confusion_matrix(y_test, y_pred)\n",
    "acc = accuracy_score(y_test, y_pred)\n",
    "print(\"Confusion Matrix : \\n\", cm)\n",
    "print(\"Accuracy : \", np.round(acc, 4))\n",
    "print(\"Precision :\", np.round(metrics.precision_score(y_test, y_pred, pos_label = 1), 4))\n",
    "print(\"Recall : \", np.round(metrics.recall_score(y_test, y_pred, pos_label = 0), 4))"
   ]
  },
  {
   "cell_type": "markdown",
   "metadata": {},
   "source": [
    "**Model Evaluation**"
   ]
  },
  {
   "cell_type": "markdown",
   "metadata": {},
   "source": [
    "| Model | Accuracy | Precision | Recall |\n",
    "| --- | --- | --- | --- |\n",
    "| Logistic Regression | 0.9496 | 0.9573 | 0.9364 |\n",
    "| KNN | 0.9494 | 0.9620 | 0.9440 |\n",
    "| Random Forest | 0.9465 | 0.9561 | 0.9349 |"
   ]
  },
  {
   "cell_type": "markdown",
   "metadata": {},
   "source": [
    "# KNN shows highest accuracy and has the best performance."
   ]
  }
 ],
 "metadata": {
  "kernelspec": {
   "display_name": "Python 3",
   "language": "python",
   "name": "python3"
  },
  "language_info": {
   "codemirror_mode": {
    "name": "ipython",
    "version": 3
   },
   "file_extension": ".py",
   "mimetype": "text/x-python",
   "name": "python",
   "nbconvert_exporter": "python",
   "pygments_lexer": "ipython3",
   "version": "3.7.4"
  }
 },
 "nbformat": 4,
 "nbformat_minor": 2
}
