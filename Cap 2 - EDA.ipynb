{
 "cells": [
  {
   "cell_type": "markdown",
   "metadata": {},
   "source": [
    "**CAPSTONE 2 - EXPLORATORY DATA ANALYSIS**"
   ]
  },
  {
   "cell_type": "code",
   "execution_count": 1,
   "metadata": {},
   "outputs": [],
   "source": [
    "import os\n",
    "import pandas as pd\n",
    "import datetime\n",
    "import seaborn as sns\n",
    "import matplotlib.pyplot as plt\n",
    "import numpy as np\n",
    "%matplotlib inline\n",
    "import statsmodels.api as sm\n",
    "from sklearn.model_selection import train_test_split\n",
    "from sklearn.linear_model import LogisticRegression \n",
    "from sklearn.metrics import confusion_matrix \n",
    "from sklearn.metrics import accuracy_score \n",
    "from sklearn.preprocessing import LabelEncoder"
   ]
  },
  {
   "cell_type": "code",
   "execution_count": 2,
   "metadata": {},
   "outputs": [
    {
     "data": {
      "text/html": [
       "<div>\n",
       "<style scoped>\n",
       "    .dataframe tbody tr th:only-of-type {\n",
       "        vertical-align: middle;\n",
       "    }\n",
       "\n",
       "    .dataframe tbody tr th {\n",
       "        vertical-align: top;\n",
       "    }\n",
       "\n",
       "    .dataframe thead th {\n",
       "        text-align: right;\n",
       "    }\n",
       "</style>\n",
       "<table border=\"1\" class=\"dataframe\">\n",
       "  <thead>\n",
       "    <tr style=\"text-align: right;\">\n",
       "      <th></th>\n",
       "      <th>airline_name</th>\n",
       "      <th>author</th>\n",
       "      <th>author_country</th>\n",
       "      <th>cabin_flown</th>\n",
       "      <th>overall_rating</th>\n",
       "      <th>seat_comfort_rating</th>\n",
       "      <th>cabin_staff_rating</th>\n",
       "      <th>food_beverages_rating</th>\n",
       "      <th>inflight_entertainment_rating</th>\n",
       "      <th>value_money_rating</th>\n",
       "      <th>recommended</th>\n",
       "      <th>time</th>\n",
       "    </tr>\n",
       "  </thead>\n",
       "  <tbody>\n",
       "    <tr>\n",
       "      <td>0</td>\n",
       "      <td>adria-airways</td>\n",
       "      <td>D Ito</td>\n",
       "      <td>Germany</td>\n",
       "      <td>Economy</td>\n",
       "      <td>7.0</td>\n",
       "      <td>4.0</td>\n",
       "      <td>4.0</td>\n",
       "      <td>4.0</td>\n",
       "      <td>0.0</td>\n",
       "      <td>4.0</td>\n",
       "      <td>1</td>\n",
       "      <td>2015-04-01</td>\n",
       "    </tr>\n",
       "    <tr>\n",
       "      <td>1</td>\n",
       "      <td>adria-airways</td>\n",
       "      <td>Ron Kuhlmann</td>\n",
       "      <td>United States</td>\n",
       "      <td>Business Class</td>\n",
       "      <td>10.0</td>\n",
       "      <td>4.0</td>\n",
       "      <td>5.0</td>\n",
       "      <td>4.0</td>\n",
       "      <td>1.0</td>\n",
       "      <td>5.0</td>\n",
       "      <td>1</td>\n",
       "      <td>2015-01-01</td>\n",
       "    </tr>\n",
       "    <tr>\n",
       "      <td>2</td>\n",
       "      <td>adria-airways</td>\n",
       "      <td>E Albin</td>\n",
       "      <td>Switzerland</td>\n",
       "      <td>Economy</td>\n",
       "      <td>9.0</td>\n",
       "      <td>5.0</td>\n",
       "      <td>5.0</td>\n",
       "      <td>4.0</td>\n",
       "      <td>0.0</td>\n",
       "      <td>5.0</td>\n",
       "      <td>1</td>\n",
       "      <td>2014-09-01</td>\n",
       "    </tr>\n",
       "  </tbody>\n",
       "</table>\n",
       "</div>"
      ],
      "text/plain": [
       "    airline_name        author author_country     cabin_flown  overall_rating  \\\n",
       "0  adria-airways         D Ito        Germany         Economy             7.0   \n",
       "1  adria-airways  Ron Kuhlmann  United States  Business Class            10.0   \n",
       "2  adria-airways       E Albin    Switzerland         Economy             9.0   \n",
       "\n",
       "   seat_comfort_rating  cabin_staff_rating  food_beverages_rating  \\\n",
       "0                  4.0                 4.0                    4.0   \n",
       "1                  4.0                 5.0                    4.0   \n",
       "2                  5.0                 5.0                    4.0   \n",
       "\n",
       "   inflight_entertainment_rating  value_money_rating  recommended        time  \n",
       "0                            0.0                 4.0            1  2015-04-01  \n",
       "1                            1.0                 5.0            1  2015-01-01  \n",
       "2                            0.0                 5.0            1  2014-09-01  "
      ]
     },
     "execution_count": 2,
     "metadata": {},
     "output_type": "execute_result"
    }
   ],
   "source": [
    "path=\"C:\\Local Disk Custom\\Edu\\Data Science\\Springboard\\Capstone 2\\Ideas and Related datasets\\Airline passenger satisfaction\"\n",
    "os.chdir(path) \n",
    "\n",
    "filename = 'Airline-Dataset-Clean.csv'\n",
    "df = pd.read_csv(filename)\n",
    "df.drop(['Unnamed: 0'], axis=1, inplace=True)\n",
    "df.head(3)"
   ]
  },
  {
   "cell_type": "code",
   "execution_count": 3,
   "metadata": {},
   "outputs": [
    {
     "name": "stdout",
     "output_type": "stream",
     "text": [
      "<class 'pandas.core.frame.DataFrame'>\n",
      "RangeIndex: 27198 entries, 0 to 27197\n",
      "Data columns (total 12 columns):\n",
      "airline_name                     27198 non-null object\n",
      "author                           27198 non-null object\n",
      "author_country                   27198 non-null object\n",
      "cabin_flown                      27198 non-null object\n",
      "overall_rating                   27198 non-null float64\n",
      "seat_comfort_rating              27198 non-null float64\n",
      "cabin_staff_rating               27198 non-null float64\n",
      "food_beverages_rating            27198 non-null float64\n",
      "inflight_entertainment_rating    27198 non-null float64\n",
      "value_money_rating               27198 non-null float64\n",
      "recommended                      27198 non-null int64\n",
      "time                             27198 non-null object\n",
      "dtypes: float64(6), int64(1), object(5)\n",
      "memory usage: 2.5+ MB\n"
     ]
    }
   ],
   "source": [
    "df.info()"
   ]
  },
  {
   "cell_type": "code",
   "execution_count": 4,
   "metadata": {},
   "outputs": [
    {
     "data": {
      "text/html": [
       "<div>\n",
       "<style scoped>\n",
       "    .dataframe tbody tr th:only-of-type {\n",
       "        vertical-align: middle;\n",
       "    }\n",
       "\n",
       "    .dataframe tbody tr th {\n",
       "        vertical-align: top;\n",
       "    }\n",
       "\n",
       "    .dataframe thead th {\n",
       "        text-align: right;\n",
       "    }\n",
       "</style>\n",
       "<table border=\"1\" class=\"dataframe\">\n",
       "  <thead>\n",
       "    <tr style=\"text-align: right;\">\n",
       "      <th></th>\n",
       "      <th>overall_rating</th>\n",
       "      <th>seat_comfort_rating</th>\n",
       "      <th>cabin_staff_rating</th>\n",
       "      <th>food_beverages_rating</th>\n",
       "      <th>inflight_entertainment_rating</th>\n",
       "      <th>value_money_rating</th>\n",
       "      <th>recommended</th>\n",
       "    </tr>\n",
       "  </thead>\n",
       "  <tbody>\n",
       "    <tr>\n",
       "      <td>overall_rating</td>\n",
       "      <td>1.000000</td>\n",
       "      <td>0.719935</td>\n",
       "      <td>0.775157</td>\n",
       "      <td>0.641722</td>\n",
       "      <td>0.418358</td>\n",
       "      <td>0.831300</td>\n",
       "      <td>0.873337</td>\n",
       "    </tr>\n",
       "    <tr>\n",
       "      <td>seat_comfort_rating</td>\n",
       "      <td>0.719935</td>\n",
       "      <td>1.000000</td>\n",
       "      <td>0.601893</td>\n",
       "      <td>0.549970</td>\n",
       "      <td>0.414681</td>\n",
       "      <td>0.706313</td>\n",
       "      <td>0.648004</td>\n",
       "    </tr>\n",
       "    <tr>\n",
       "      <td>cabin_staff_rating</td>\n",
       "      <td>0.775157</td>\n",
       "      <td>0.601893</td>\n",
       "      <td>1.000000</td>\n",
       "      <td>0.631894</td>\n",
       "      <td>0.365664</td>\n",
       "      <td>0.710641</td>\n",
       "      <td>0.708900</td>\n",
       "    </tr>\n",
       "    <tr>\n",
       "      <td>food_beverages_rating</td>\n",
       "      <td>0.641722</td>\n",
       "      <td>0.549970</td>\n",
       "      <td>0.631894</td>\n",
       "      <td>1.000000</td>\n",
       "      <td>0.501685</td>\n",
       "      <td>0.607359</td>\n",
       "      <td>0.577122</td>\n",
       "    </tr>\n",
       "    <tr>\n",
       "      <td>inflight_entertainment_rating</td>\n",
       "      <td>0.418358</td>\n",
       "      <td>0.414681</td>\n",
       "      <td>0.365664</td>\n",
       "      <td>0.501685</td>\n",
       "      <td>1.000000</td>\n",
       "      <td>0.404958</td>\n",
       "      <td>0.367796</td>\n",
       "    </tr>\n",
       "    <tr>\n",
       "      <td>value_money_rating</td>\n",
       "      <td>0.831300</td>\n",
       "      <td>0.706313</td>\n",
       "      <td>0.710641</td>\n",
       "      <td>0.607359</td>\n",
       "      <td>0.404958</td>\n",
       "      <td>1.000000</td>\n",
       "      <td>0.767302</td>\n",
       "    </tr>\n",
       "    <tr>\n",
       "      <td>recommended</td>\n",
       "      <td>0.873337</td>\n",
       "      <td>0.648004</td>\n",
       "      <td>0.708900</td>\n",
       "      <td>0.577122</td>\n",
       "      <td>0.367796</td>\n",
       "      <td>0.767302</td>\n",
       "      <td>1.000000</td>\n",
       "    </tr>\n",
       "  </tbody>\n",
       "</table>\n",
       "</div>"
      ],
      "text/plain": [
       "                               overall_rating  seat_comfort_rating  \\\n",
       "overall_rating                       1.000000             0.719935   \n",
       "seat_comfort_rating                  0.719935             1.000000   \n",
       "cabin_staff_rating                   0.775157             0.601893   \n",
       "food_beverages_rating                0.641722             0.549970   \n",
       "inflight_entertainment_rating        0.418358             0.414681   \n",
       "value_money_rating                   0.831300             0.706313   \n",
       "recommended                          0.873337             0.648004   \n",
       "\n",
       "                               cabin_staff_rating  food_beverages_rating  \\\n",
       "overall_rating                           0.775157               0.641722   \n",
       "seat_comfort_rating                      0.601893               0.549970   \n",
       "cabin_staff_rating                       1.000000               0.631894   \n",
       "food_beverages_rating                    0.631894               1.000000   \n",
       "inflight_entertainment_rating            0.365664               0.501685   \n",
       "value_money_rating                       0.710641               0.607359   \n",
       "recommended                              0.708900               0.577122   \n",
       "\n",
       "                               inflight_entertainment_rating  \\\n",
       "overall_rating                                      0.418358   \n",
       "seat_comfort_rating                                 0.414681   \n",
       "cabin_staff_rating                                  0.365664   \n",
       "food_beverages_rating                               0.501685   \n",
       "inflight_entertainment_rating                       1.000000   \n",
       "value_money_rating                                  0.404958   \n",
       "recommended                                         0.367796   \n",
       "\n",
       "                               value_money_rating  recommended  \n",
       "overall_rating                           0.831300     0.873337  \n",
       "seat_comfort_rating                      0.706313     0.648004  \n",
       "cabin_staff_rating                       0.710641     0.708900  \n",
       "food_beverages_rating                    0.607359     0.577122  \n",
       "inflight_entertainment_rating            0.404958     0.367796  \n",
       "value_money_rating                       1.000000     0.767302  \n",
       "recommended                              0.767302     1.000000  "
      ]
     },
     "execution_count": 4,
     "metadata": {},
     "output_type": "execute_result"
    }
   ],
   "source": [
    "df.corr()"
   ]
  },
  {
   "cell_type": "code",
   "execution_count": 5,
   "metadata": {},
   "outputs": [
    {
     "data": {
      "text/plain": [
       "<matplotlib.axes._subplots.AxesSubplot at 0x25602812d88>"
      ]
     },
     "execution_count": 5,
     "metadata": {},
     "output_type": "execute_result"
    },
    {
     "data": {
      "image/png": "[encoded data removed]",
      "text/plain": [
       "<Figure size 432x288 with 1 Axes>"
      ]
     },
     "metadata": {
      "needs_background": "light"
     },
     "output_type": "display_data"
    }
   ],
   "source": [
    "sns.distplot(df['overall_rating'])"
   ]
  },
  {
   "cell_type": "code",
   "execution_count": 6,
   "metadata": {},
   "outputs": [
    {
     "data": {
      "image/png": "[encoded data removed]",
      "text/plain": [
       "<Figure size 432x288 with 5 Axes>"
      ]
     },
     "metadata": {
      "needs_background": "light"
     },
     "output_type": "display_data"
    }
   ],
   "source": [
    "plt.subplot(2,3,1)\n",
    "plt.hist(df['seat_comfort_rating'], bins=6)\n",
    "plt.xlabel('Seat Comfort')\n",
    "plt.subplot(2,3,2)\n",
    "plt.hist(df['cabin_staff_rating'], bins=6)\n",
    "plt.xlabel('Cabin Staff')\n",
    "plt.subplot(2,3,3)\n",
    "plt.hist(df['food_beverages_rating'], bins=6)\n",
    "plt.xlabel('Food')\n",
    "plt.subplot(2,3,4)\n",
    "plt.hist(df['inflight_entertainment_rating'], bins=6)\n",
    "plt.xlabel('Entertainment')\n",
    "plt.subplot(2,3,5)\n",
    "plt.hist(df['value_money_rating'], bins=6)\n",
    "plt.xlabel('Value for money')\n",
    "\n",
    "plt.tight_layout()\n",
    "plt.show()"
   ]
  },
  {
   "cell_type": "markdown",
   "metadata": {},
   "source": [
    "All the Feature ratings columns have few 0 Ratings. We will consider them as Null/Missing values and remove them."
   ]
  },
  {
   "cell_type": "code",
   "execution_count": 7,
   "metadata": {},
   "outputs": [
    {
     "data": {
      "text/plain": [
       "(23032, 12)"
      ]
     },
     "execution_count": 7,
     "metadata": {},
     "output_type": "execute_result"
    }
   ],
   "source": [
    "df = df[(df['seat_comfort_rating'] != 0) & (df['cabin_staff_rating'] != 0) & (df['food_beverages_rating'] != 0)& (df['inflight_entertainment_rating'] != 0)& (df['value_money_rating'] != 0)]\n",
    "df.shape"
   ]
  },
  {
   "cell_type": "code",
   "execution_count": 8,
   "metadata": {},
   "outputs": [
    {
     "data": {
      "image/png": "[encoded data removed]",
      "text/plain": [
       "<Figure size 432x288 with 1 Axes>"
      ]
     },
     "metadata": {
      "needs_background": "light"
     },
     "output_type": "display_data"
    }
   ],
   "source": [
    "airlines = df[df['recommended']==1].groupby('airline_name')['recommended'].sum().sort_values(ascending=False)\n",
    "airlines = pd.DataFrame(airlines).reset_index()\n",
    "sns.barplot(data=airlines.head(8), x='airline_name', y='recommended')\n",
    "plt.xlabel('')\n",
    "plt.xticks(rotation=45)\n",
    "plt.ylabel('Recommendations')\n",
    "plt.title('Airlines with most Recommendations')\n",
    "plt.show()"
   ]
  },
  {
   "cell_type": "code",
   "execution_count": 9,
   "metadata": {},
   "outputs": [
    {
     "data": {
      "text/plain": [
       "<matplotlib.axes._subplots.AxesSubplot at 0x25602e5c988>"
      ]
     },
     "execution_count": 9,
     "metadata": {},
     "output_type": "execute_result"
    },
    {
     "data": {
      "image/png": "[encoded data removed]",
      "text/plain": [
       "<Figure size 432x288 with 1 Axes>"
      ]
     },
     "metadata": {
      "needs_background": "light"
     },
     "output_type": "display_data"
    }
   ],
   "source": [
    "sns.violinplot(x='cabin_flown', y='recommended', data=df)"
   ]
  },
  {
   "cell_type": "code",
   "execution_count": 10,
   "metadata": {},
   "outputs": [
    {
     "data": {
      "text/plain": [
       "<matplotlib.axes._subplots.AxesSubplot at 0x2567fb5b1c8>"
      ]
     },
     "execution_count": 10,
     "metadata": {},
     "output_type": "execute_result"
    },
    {
     "data": {
      "image/png": "[encoded data removed]",
      "text/plain": [
       "<Figure size 432x288 with 1 Axes>"
      ]
     },
     "metadata": {
      "needs_background": "light"
     },
     "output_type": "display_data"
    }
   ],
   "source": [
    "sns.violinplot(x='cabin_flown', y='overall_rating', data=df)"
   ]
  },
  {
   "cell_type": "code",
   "execution_count": 11,
   "metadata": {},
   "outputs": [
    {
     "data": {
      "text/plain": [
       "<matplotlib.axes._subplots.AxesSubplot at 0x25603115808>"
      ]
     },
     "execution_count": 11,
     "metadata": {},
     "output_type": "execute_result"
    },
    {
     "data": {
      "image/png": "[encoded data removed]",
      "text/plain": [
       "<Figure size 432x288 with 1 Axes>"
      ]
     },
     "metadata": {
      "needs_background": "light"
     },
     "output_type": "display_data"
    }
   ],
   "source": [
    "sns.violinplot(x='seat_comfort_rating', y='recommended', data=df)"
   ]
  },
  {
   "cell_type": "markdown",
   "metadata": {},
   "source": [
    "**Convert cabin_class and author_country columns into numerical values**"
   ]
  },
  {
   "cell_type": "code",
   "execution_count": 12,
   "metadata": {},
   "outputs": [],
   "source": [
    "#from sklearn.preprocessing import LabelEncoder\n",
    "labelencoder = LabelEncoder()\n",
    "df['CC'] = labelencoder.fit_transform(df['cabin_flown'])\n",
    "df['country'] = labelencoder.fit_transform(df['author_country'])"
   ]
  },
  {
   "cell_type": "code",
   "execution_count": 13,
   "metadata": {},
   "outputs": [
    {
     "data": {
      "text/plain": [
       "Economy            16067\n",
       "Business Class      4955\n",
       "Premium Economy     1315\n",
       "First Class          695\n",
       "Name: cabin_flown, dtype: int64"
      ]
     },
     "execution_count": 13,
     "metadata": {},
     "output_type": "execute_result"
    }
   ],
   "source": [
    "df['cabin_flown'].value_counts()"
   ]
  },
  {
   "cell_type": "markdown",
   "metadata": {},
   "source": [
    "**Sperate DF object for each Cabin Class to compare the influence of each Flight feature on their Recommendation**"
   ]
  },
  {
   "cell_type": "code",
   "execution_count": 14,
   "metadata": {},
   "outputs": [],
   "source": [
    "Economy = df[df['CC'] == 1].drop(columns=['cabin_flown', 'CC'])\n",
    "Bus = df[df['CC'] == 0].drop(columns=['cabin_flown', 'CC'])\n",
    "PremEcon = df[df['CC'] == 3].drop(columns=['cabin_flown', 'CC'])\n",
    "First = df[df['CC'] == 2].drop(columns=['cabin_flown', 'CC'])"
   ]
  },
  {
   "cell_type": "code",
   "execution_count": 15,
   "metadata": {},
   "outputs": [],
   "source": [
    "Comparision = pd.DataFrame(df.corr()['recommended'].drop(columns=['CC']))\n",
    "Comparision.columns = ['Overall']"
   ]
  },
  {
   "cell_type": "code",
   "execution_count": 16,
   "metadata": {},
   "outputs": [
    {
     "data": {
      "text/html": [
       "<div>\n",
       "<style scoped>\n",
       "    .dataframe tbody tr th:only-of-type {\n",
       "        vertical-align: middle;\n",
       "    }\n",
       "\n",
       "    .dataframe tbody tr th {\n",
       "        vertical-align: top;\n",
       "    }\n",
       "\n",
       "    .dataframe thead th {\n",
       "        text-align: right;\n",
       "    }\n",
       "</style>\n",
       "<table border=\"1\" class=\"dataframe\">\n",
       "  <thead>\n",
       "    <tr style=\"text-align: right;\">\n",
       "      <th></th>\n",
       "      <th>overall_rating</th>\n",
       "      <th>seat_comfort_rating</th>\n",
       "      <th>cabin_staff_rating</th>\n",
       "      <th>food_beverages_rating</th>\n",
       "      <th>inflight_entertainment_rating</th>\n",
       "      <th>value_money_rating</th>\n",
       "      <th>country</th>\n",
       "    </tr>\n",
       "  </thead>\n",
       "  <tbody>\n",
       "    <tr>\n",
       "      <td>Overall</td>\n",
       "      <td>0.873897</td>\n",
       "      <td>0.676619</td>\n",
       "      <td>0.734567</td>\n",
       "      <td>0.680182</td>\n",
       "      <td>0.555810</td>\n",
       "      <td>0.793218</td>\n",
       "      <td>-0.014051</td>\n",
       "    </tr>\n",
       "    <tr>\n",
       "      <td>Economy</td>\n",
       "      <td>0.878892</td>\n",
       "      <td>0.678335</td>\n",
       "      <td>0.735395</td>\n",
       "      <td>0.673692</td>\n",
       "      <td>0.551623</td>\n",
       "      <td>0.790588</td>\n",
       "      <td>-0.011419</td>\n",
       "    </tr>\n",
       "    <tr>\n",
       "      <td>Bus</td>\n",
       "      <td>0.839165</td>\n",
       "      <td>0.628097</td>\n",
       "      <td>0.694593</td>\n",
       "      <td>0.653857</td>\n",
       "      <td>0.506186</td>\n",
       "      <td>0.775906</td>\n",
       "      <td>-0.032222</td>\n",
       "    </tr>\n",
       "    <tr>\n",
       "      <td>PremEcon</td>\n",
       "      <td>0.886936</td>\n",
       "      <td>0.722583</td>\n",
       "      <td>0.753778</td>\n",
       "      <td>0.722570</td>\n",
       "      <td>0.636547</td>\n",
       "      <td>0.831594</td>\n",
       "      <td>0.053394</td>\n",
       "    </tr>\n",
       "    <tr>\n",
       "      <td>First</td>\n",
       "      <td>0.861435</td>\n",
       "      <td>0.635823</td>\n",
       "      <td>0.740428</td>\n",
       "      <td>0.687342</td>\n",
       "      <td>0.551865</td>\n",
       "      <td>0.799934</td>\n",
       "      <td>-0.057301</td>\n",
       "    </tr>\n",
       "  </tbody>\n",
       "</table>\n",
       "</div>"
      ],
      "text/plain": [
       "          overall_rating  seat_comfort_rating  cabin_staff_rating  \\\n",
       "Overall         0.873897             0.676619            0.734567   \n",
       "Economy         0.878892             0.678335            0.735395   \n",
       "Bus             0.839165             0.628097            0.694593   \n",
       "PremEcon        0.886936             0.722583            0.753778   \n",
       "First           0.861435             0.635823            0.740428   \n",
       "\n",
       "          food_beverages_rating  inflight_entertainment_rating  \\\n",
       "Overall                0.680182                       0.555810   \n",
       "Economy                0.673692                       0.551623   \n",
       "Bus                    0.653857                       0.506186   \n",
       "PremEcon               0.722570                       0.636547   \n",
       "First                  0.687342                       0.551865   \n",
       "\n",
       "          value_money_rating   country  \n",
       "Overall             0.793218 -0.014051  \n",
       "Economy             0.790588 -0.011419  \n",
       "Bus                 0.775906 -0.032222  \n",
       "PremEcon            0.831594  0.053394  \n",
       "First               0.799934 -0.057301  "
      ]
     },
     "execution_count": 16,
     "metadata": {},
     "output_type": "execute_result"
    }
   ],
   "source": [
    "Comparision['Economy'] = Economy.corr()['recommended']\n",
    "Comparision['Bus'] = Bus.corr()['recommended']\n",
    "Comparision['PremEcon'] = PremEcon.corr()['recommended']\n",
    "Comparision['First'] = First.corr()['recommended']\n",
    "Comparision = Comparision.T.drop(columns=['recommended', 'CC'])\n",
    "Comparision.head()"
   ]
  },
  {
   "cell_type": "markdown",
   "metadata": {},
   "source": [
    "**OLS Model** - Not suitable for categorical variable prediction"
   ]
  },
  {
   "cell_type": "code",
   "execution_count": null,
   "metadata": {},
   "outputs": [],
   "source": [
    "X = df2[['overall_rating', 'seat_comfort_rating', 'cabin_staff_rating', 'food_beverages_rating',\n",
    "       'inflight_entertainment_rating', 'value_money_rating', 'CC']]\n",
    "X = X.reset_index().drop(['index'], axis=1)\n",
    "Y = pd.DataFrame(df2['recommended']).reset_index().drop(['index'], axis=1)\n",
    "sm.add_constant(X)\n",
    "X_train, X_test, y_train, y_test = train_test_split(X, Y, test_size=0.25)\n",
    "X_train.shape, X_test.shape, y_train.shape, y_test.shape"
   ]
  },
  {
   "cell_type": "code",
   "execution_count": null,
   "metadata": {},
   "outputs": [],
   "source": [
    "mod = sm.OLS(y_train, X_train)\n",
    "results = mod.fit()\n",
    "results.summary()"
   ]
  },
  {
   "cell_type": "markdown",
   "metadata": {},
   "source": [
    "**Logistic Regression**"
   ]
  },
  {
   "cell_type": "code",
   "execution_count": 18,
   "metadata": {},
   "outputs": [
    {
     "data": {
      "text/plain": [
       "((17274, 7), (5758, 7), (17274, 1), (5758, 1))"
      ]
     },
     "execution_count": 18,
     "metadata": {},
     "output_type": "execute_result"
    }
   ],
   "source": [
    "X = df[['country', 'CC', 'overall_rating', 'seat_comfort_rating',\n",
    "         'cabin_staff_rating', 'food_beverages_rating', 'value_money_rating']].values\n",
    "Y = pd.DataFrame(df['recommended']).reset_index().drop(['index'], axis=1).values\n",
    "\n",
    "X_train, X_test, y_train, y_test = train_test_split(X, Y, test_size=0.25)\n",
    "X_train.shape, X_test.shape, y_train.shape, y_test.shape"
   ]
  },
  {
   "cell_type": "code",
   "execution_count": 19,
   "metadata": {},
   "outputs": [
    {
     "name": "stderr",
     "output_type": "stream",
     "text": [
      "C:\\Users\\iamku\\Anaconda3\\lib\\site-packages\\sklearn\\linear_model\\logistic.py:432: FutureWarning: Default solver will be changed to 'lbfgs' in 0.22. Specify a solver to silence this warning.\n",
      "  FutureWarning)\n",
      "C:\\Users\\iamku\\Anaconda3\\lib\\site-packages\\sklearn\\utils\\validation.py:724: DataConversionWarning: A column-vector y was passed when a 1d array was expected. Please change the shape of y to (n_samples, ), for example using ravel().\n",
      "  y = column_or_1d(y, warn=True)\n"
     ]
    }
   ],
   "source": [
    "classifier = LogisticRegression(random_state = 0) \n",
    "classifier.fit(X_train, y_train)\n",
    "y_pred = classifier.predict(X_test)\n",
    "cm = confusion_matrix(y_test, y_pred)\n",
    "acc = accuracy_score(y_test, y_pred)"
   ]
  },
  {
   "cell_type": "code",
   "execution_count": 20,
   "metadata": {},
   "outputs": [
    {
     "name": "stdout",
     "output_type": "stream",
     "text": [
      "Confusion Matrix : \n",
      " [[2162  165]\n",
      " [ 145 3286]]\n"
     ]
    }
   ],
   "source": [
    "print (\"Confusion Matrix : \\n\", cm)"
   ]
  },
  {
   "cell_type": "code",
   "execution_count": 21,
   "metadata": {},
   "outputs": [
    {
     "name": "stdout",
     "output_type": "stream",
     "text": [
      "Accuracy :  0.9462\n"
     ]
    }
   ],
   "source": [
    "print (\"Accuracy : \", np.round(acc, 4))"
   ]
  },
  {
   "cell_type": "markdown",
   "metadata": {},
   "source": [
    "**Our Logistic Regression model is producing an Accuracy rate of 95.19%. This seems to be a Reliable Model**"
   ]
  }
 ],
 "metadata": {
  "kernelspec": {
   "display_name": "Python 3",
   "language": "python",
   "name": "python3"
  },
  "language_info": {
   "codemirror_mode": {
    "name": "ipython",
    "version": 3
   },
   "file_extension": ".py",
   "mimetype": "text/x-python",
   "name": "python",
   "nbconvert_exporter": "python",
   "pygments_lexer": "ipython3",
   "version": "3.7.4"
  }
 },
 "nbformat": 4,
 "nbformat_minor": 2
}
